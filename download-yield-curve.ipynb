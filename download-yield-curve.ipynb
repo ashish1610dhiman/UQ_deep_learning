{
 "cells": [
  {
   "cell_type": "code",
   "execution_count": 1,
   "id": "b0aa87a2",
   "metadata": {
    "_cell_guid": "b1076dfc-b9ad-4769-8c92-a6c4dae69d19",
    "_uuid": "8f2839f25d086af736a60e9eeb907d3b93b6e0e5",
    "execution": {
     "iopub.execute_input": "2023-05-25T07:39:30.866258Z",
     "iopub.status.busy": "2023-05-25T07:39:30.865372Z",
     "iopub.status.idle": "2023-05-25T07:39:47.349638Z",
     "shell.execute_reply": "2023-05-25T07:39:47.348454Z"
    },
    "papermill": {
     "duration": 16.492278,
     "end_time": "2023-05-25T07:39:47.352209",
     "exception": false,
     "start_time": "2023-05-25T07:39:30.859931",
     "status": "completed"
    },
    "tags": []
   },
   "outputs": [
    {
     "name": "stdout",
     "output_type": "stream",
     "text": [
      "Collecting gpytorch\r\n",
      "  Downloading gpytorch-1.10-py3-none-any.whl (255 kB)\r\n",
      "\u001b[2K     \u001b[90m━━━━━━━━━━━━━━━━━━━━━━━━━━━━━━━━━━━━━━━\u001b[0m \u001b[32m255.2/255.2 kB\u001b[0m \u001b[31m5.0 MB/s\u001b[0m eta \u001b[36m0:00:00\u001b[0m\r\n",
      "\u001b[?25hRequirement already satisfied: scikit-learn in /opt/conda/lib/python3.10/site-packages (from gpytorch) (1.2.2)\r\n",
      "Collecting linear-operator>=0.4.0 (from gpytorch)\r\n",
      "  Downloading linear_operator-0.4.0-py3-none-any.whl (156 kB)\r\n",
      "\u001b[2K     \u001b[90m━━━━━━━━━━━━━━━━━━━━━━━━━━━━━━━━━━━━━━\u001b[0m \u001b[32m156.7/156.7 kB\u001b[0m \u001b[31m14.7 MB/s\u001b[0m eta \u001b[36m0:00:00\u001b[0m\r\n",
      "\u001b[?25hRequirement already satisfied: torch>=1.11 in /opt/conda/lib/python3.10/site-packages (from linear-operator>=0.4.0->gpytorch) (2.0.0+cpu)\r\n",
      "Requirement already satisfied: scipy in /opt/conda/lib/python3.10/site-packages (from linear-operator>=0.4.0->gpytorch) (1.10.1)\r\n",
      "Requirement already satisfied: numpy>=1.17.3 in /opt/conda/lib/python3.10/site-packages (from scikit-learn->gpytorch) (1.23.5)\r\n",
      "Requirement already satisfied: joblib>=1.1.1 in /opt/conda/lib/python3.10/site-packages (from scikit-learn->gpytorch) (1.2.0)\r\n",
      "Requirement already satisfied: threadpoolctl>=2.0.0 in /opt/conda/lib/python3.10/site-packages (from scikit-learn->gpytorch) (3.1.0)\r\n",
      "Requirement already satisfied: filelock in /opt/conda/lib/python3.10/site-packages (from torch>=1.11->linear-operator>=0.4.0->gpytorch) (3.12.0)\r\n",
      "Requirement already satisfied: typing-extensions in /opt/conda/lib/python3.10/site-packages (from torch>=1.11->linear-operator>=0.4.0->gpytorch) (4.5.0)\r\n",
      "Requirement already satisfied: sympy in /opt/conda/lib/python3.10/site-packages (from torch>=1.11->linear-operator>=0.4.0->gpytorch) (1.12)\r\n",
      "Requirement already satisfied: networkx in /opt/conda/lib/python3.10/site-packages (from torch>=1.11->linear-operator>=0.4.0->gpytorch) (3.1)\r\n",
      "Requirement already satisfied: jinja2 in /opt/conda/lib/python3.10/site-packages (from torch>=1.11->linear-operator>=0.4.0->gpytorch) (3.1.2)\r\n",
      "Requirement already satisfied: MarkupSafe>=2.0 in /opt/conda/lib/python3.10/site-packages (from jinja2->torch>=1.11->linear-operator>=0.4.0->gpytorch) (2.1.2)\r\n",
      "Requirement already satisfied: mpmath>=0.19 in /opt/conda/lib/python3.10/site-packages (from sympy->torch>=1.11->linear-operator>=0.4.0->gpytorch) (1.3.0)\r\n",
      "Installing collected packages: linear-operator, gpytorch\r\n",
      "Successfully installed gpytorch-1.10 linear-operator-0.4.0\r\n",
      "\u001b[33mWARNING: Running pip as the 'root' user can result in broken permissions and conflicting behaviour with the system package manager. It is recommended to use a virtual environment instead: https://pip.pypa.io/warnings/venv\u001b[0m\u001b[33m\r\n",
      "\u001b[0m"
     ]
    }
   ],
   "source": [
    "import requests\n",
    "import pandas as pd\n",
    "from bs4 import BeautifulSoup\n",
    "import numpy as np\n",
    "\n",
    "import math\n",
    "import torch\n",
    "!pip install gpytorch\n",
    "import gpytorch\n",
    "from matplotlib import pyplot as plt"
   ]
  },
  {
   "cell_type": "code",
   "execution_count": 2,
   "id": "bc5d3d4e",
   "metadata": {
    "execution": {
     "iopub.execute_input": "2023-05-25T07:39:47.363058Z",
     "iopub.status.busy": "2023-05-25T07:39:47.361884Z",
     "iopub.status.idle": "2023-05-25T07:39:48.623040Z",
     "shell.execute_reply": "2023-05-25T07:39:48.621646Z"
    },
    "papermill": {
     "duration": 1.269534,
     "end_time": "2023-05-25T07:39:48.625848",
     "exception": false,
     "start_time": "2023-05-25T07:39:47.356314",
     "status": "completed"
    },
    "tags": []
   },
   "outputs": [],
   "source": [
    "from sklearn.model_selection import TimeSeriesSplit\n",
    "from sklearn.metrics import mean_squared_error,mean_absolute_percentage_error"
   ]
  },
  {
   "cell_type": "markdown",
   "id": "28853af7",
   "metadata": {
    "papermill": {
     "duration": 0.003506,
     "end_time": "2023-05-25T07:39:48.633478",
     "exception": false,
     "start_time": "2023-05-25T07:39:48.629972",
     "status": "completed"
    },
    "tags": []
   },
   "source": [
    "# Download Yield curve from Treasury data"
   ]
  },
  {
   "cell_type": "code",
   "execution_count": 3,
   "id": "bfcae94d",
   "metadata": {
    "execution": {
     "iopub.execute_input": "2023-05-25T07:39:48.642525Z",
     "iopub.status.busy": "2023-05-25T07:39:48.642160Z",
     "iopub.status.idle": "2023-05-25T07:39:58.216806Z",
     "shell.execute_reply": "2023-05-25T07:39:58.215649Z"
    },
    "papermill": {
     "duration": 9.581852,
     "end_time": "2023-05-25T07:39:58.219113",
     "exception": false,
     "start_time": "2023-05-25T07:39:48.637261",
     "status": "completed"
    },
    "tags": []
   },
   "outputs": [
    {
     "data": {
      "text/plain": [
       "'https://home.treasury.gov/resource-center/data-chart-center/interest-rates/daily-treasury-rates.csv/2023/all?type=daily_treasury_yield_curve&field_tdr_date_value=2023&page&_format=csv'"
      ]
     },
     "execution_count": 3,
     "metadata": {},
     "output_type": "execute_result"
    }
   ],
   "source": [
    "res = requests.get(\"https://home.treasury.gov/resource-center/data-chart-center/interest-rates/TextView?type=daily_treasury_yield_curve&field_tdr_date_value=2023\")\n",
    "html = BeautifulSoup(res.text, \"lxml\")\n",
    "\n",
    "link = html.find(\"div\", {\"class\": \"csv-feed views-data-export-feed\"}).find(\"a\").get(\"href\")\n",
    "link"
   ]
  },
  {
   "cell_type": "code",
   "execution_count": 4,
   "id": "2133c1cc",
   "metadata": {
    "execution": {
     "iopub.execute_input": "2023-05-25T07:39:58.229220Z",
     "iopub.status.busy": "2023-05-25T07:39:58.228242Z",
     "iopub.status.idle": "2023-05-25T07:41:11.538629Z",
     "shell.execute_reply": "2023-05-25T07:41:11.537445Z"
    },
    "papermill": {
     "duration": 73.32173,
     "end_time": "2023-05-25T07:41:11.544764",
     "exception": false,
     "start_time": "2023-05-25T07:39:58.223034",
     "status": "completed"
    },
    "tags": []
   },
   "outputs": [
    {
     "name": "stdout",
     "output_type": "stream",
     "text": [
      "Scraping for 2010\n",
      "Scraping for 2011\n",
      "Scraping for 2012\n",
      "Scraping for 2013\n",
      "Scraping for 2014\n",
      "Scraping for 2015\n",
      "Scraping for 2016\n",
      "Scraping for 2017\n",
      "Scraped data shape=(2003, 12)\n"
     ]
    }
   ],
   "source": [
    "df_list = []\n",
    "START = 2010\n",
    "END = 2018\n",
    "\n",
    " \n",
    "for year in range(START,END):\n",
    "    print(f\"Scraping for {year}\")\n",
    "    response = requests.get(link.replace(\"2023\", str(year))).text.split(\"\\n\")\n",
    " \n",
    "    list_table = [[*row.split(\",\")] for row in response[1:]]\n",
    " \n",
    "    df_year_i = pd.DataFrame(list_table, columns=response[0].split(\",\"))\n",
    "    df_year_i.columns = df_year_i.columns.str.strip('\"')\n",
    "    df_list.append(df_year_i)\n",
    "\n",
    "df_all = pd.concat(df_list)\n",
    "df_all.index = pd.DatetimeIndex(df_all[\"Date\"])\n",
    "\n",
    "#cast to numeric\n",
    "cast_cols = df_all.columns.drop('Date')\n",
    "df_all[cast_cols] = df_all[cast_cols].apply(pd.to_numeric, errors='coerce')\n",
    "\n",
    "print (f\"Scraped data shape={df_all.shape}\")"
   ]
  },
  {
   "cell_type": "code",
   "execution_count": 5,
   "id": "36c989d6",
   "metadata": {
    "execution": {
     "iopub.execute_input": "2023-05-25T07:41:11.555989Z",
     "iopub.status.busy": "2023-05-25T07:41:11.554892Z",
     "iopub.status.idle": "2023-05-25T07:41:11.585333Z",
     "shell.execute_reply": "2023-05-25T07:41:11.584296Z"
    },
    "papermill": {
     "duration": 0.038262,
     "end_time": "2023-05-25T07:41:11.587488",
     "exception": false,
     "start_time": "2023-05-25T07:41:11.549226",
     "status": "completed"
    },
    "tags": []
   },
   "outputs": [
    {
     "data": {
      "text/html": [
       "<div>\n",
       "<style scoped>\n",
       "    .dataframe tbody tr th:only-of-type {\n",
       "        vertical-align: middle;\n",
       "    }\n",
       "\n",
       "    .dataframe tbody tr th {\n",
       "        vertical-align: top;\n",
       "    }\n",
       "\n",
       "    .dataframe thead th {\n",
       "        text-align: right;\n",
       "    }\n",
       "</style>\n",
       "<table border=\"1\" class=\"dataframe\">\n",
       "  <thead>\n",
       "    <tr style=\"text-align: right;\">\n",
       "      <th></th>\n",
       "      <th>Date</th>\n",
       "      <th>1 Mo</th>\n",
       "      <th>3 Mo</th>\n",
       "      <th>6 Mo</th>\n",
       "      <th>1 Yr</th>\n",
       "      <th>2 Yr</th>\n",
       "      <th>3 Yr</th>\n",
       "      <th>5 Yr</th>\n",
       "      <th>7 Yr</th>\n",
       "      <th>10 Yr</th>\n",
       "      <th>20 Yr</th>\n",
       "      <th>30 Yr</th>\n",
       "    </tr>\n",
       "    <tr>\n",
       "      <th>Date</th>\n",
       "      <th></th>\n",
       "      <th></th>\n",
       "      <th></th>\n",
       "      <th></th>\n",
       "      <th></th>\n",
       "      <th></th>\n",
       "      <th></th>\n",
       "      <th></th>\n",
       "      <th></th>\n",
       "      <th></th>\n",
       "      <th></th>\n",
       "      <th></th>\n",
       "    </tr>\n",
       "  </thead>\n",
       "  <tbody>\n",
       "    <tr>\n",
       "      <th>2010-12-31</th>\n",
       "      <td>12/31/2010</td>\n",
       "      <td>0.07</td>\n",
       "      <td>0.12</td>\n",
       "      <td>0.19</td>\n",
       "      <td>0.29</td>\n",
       "      <td>0.61</td>\n",
       "      <td>1.02</td>\n",
       "      <td>2.01</td>\n",
       "      <td>2.71</td>\n",
       "      <td>3.30</td>\n",
       "      <td>4.13</td>\n",
       "      <td>4.34</td>\n",
       "    </tr>\n",
       "    <tr>\n",
       "      <th>2010-12-30</th>\n",
       "      <td>12/30/2010</td>\n",
       "      <td>0.05</td>\n",
       "      <td>0.12</td>\n",
       "      <td>0.20</td>\n",
       "      <td>0.29</td>\n",
       "      <td>0.66</td>\n",
       "      <td>1.07</td>\n",
       "      <td>2.06</td>\n",
       "      <td>2.76</td>\n",
       "      <td>3.38</td>\n",
       "      <td>4.21</td>\n",
       "      <td>4.43</td>\n",
       "    </tr>\n",
       "    <tr>\n",
       "      <th>2010-12-29</th>\n",
       "      <td>12/29/2010</td>\n",
       "      <td>0.05</td>\n",
       "      <td>0.13</td>\n",
       "      <td>0.20</td>\n",
       "      <td>0.30</td>\n",
       "      <td>0.64</td>\n",
       "      <td>1.05</td>\n",
       "      <td>2.03</td>\n",
       "      <td>2.75</td>\n",
       "      <td>3.35</td>\n",
       "      <td>4.19</td>\n",
       "      <td>4.41</td>\n",
       "    </tr>\n",
       "    <tr>\n",
       "      <th>2010-12-28</th>\n",
       "      <td>12/28/2010</td>\n",
       "      <td>0.08</td>\n",
       "      <td>0.15</td>\n",
       "      <td>0.21</td>\n",
       "      <td>0.31</td>\n",
       "      <td>0.75</td>\n",
       "      <td>1.17</td>\n",
       "      <td>2.18</td>\n",
       "      <td>2.89</td>\n",
       "      <td>3.50</td>\n",
       "      <td>4.33</td>\n",
       "      <td>4.53</td>\n",
       "    </tr>\n",
       "    <tr>\n",
       "      <th>2010-12-27</th>\n",
       "      <td>12/27/2010</td>\n",
       "      <td>0.06</td>\n",
       "      <td>0.17</td>\n",
       "      <td>0.22</td>\n",
       "      <td>0.32</td>\n",
       "      <td>0.71</td>\n",
       "      <td>1.11</td>\n",
       "      <td>2.08</td>\n",
       "      <td>2.76</td>\n",
       "      <td>3.36</td>\n",
       "      <td>4.20</td>\n",
       "      <td>4.42</td>\n",
       "    </tr>\n",
       "  </tbody>\n",
       "</table>\n",
       "</div>"
      ],
      "text/plain": [
       "                  Date  1 Mo  3 Mo  6 Mo  1 Yr  2 Yr  3 Yr  5 Yr  7 Yr  10 Yr  \\\n",
       "Date                                                                            \n",
       "2010-12-31  12/31/2010  0.07  0.12  0.19  0.29  0.61  1.02  2.01  2.71   3.30   \n",
       "2010-12-30  12/30/2010  0.05  0.12  0.20  0.29  0.66  1.07  2.06  2.76   3.38   \n",
       "2010-12-29  12/29/2010  0.05  0.13  0.20  0.30  0.64  1.05  2.03  2.75   3.35   \n",
       "2010-12-28  12/28/2010  0.08  0.15  0.21  0.31  0.75  1.17  2.18  2.89   3.50   \n",
       "2010-12-27  12/27/2010  0.06  0.17  0.22  0.32  0.71  1.11  2.08  2.76   3.36   \n",
       "\n",
       "            20 Yr  30 Yr  \n",
       "Date                      \n",
       "2010-12-31   4.13   4.34  \n",
       "2010-12-30   4.21   4.43  \n",
       "2010-12-29   4.19   4.41  \n",
       "2010-12-28   4.33   4.53  \n",
       "2010-12-27   4.20   4.42  "
      ]
     },
     "execution_count": 5,
     "metadata": {},
     "output_type": "execute_result"
    }
   ],
   "source": [
    "df_all.head()"
   ]
  },
  {
   "cell_type": "code",
   "execution_count": 6,
   "id": "9ba51729",
   "metadata": {
    "execution": {
     "iopub.execute_input": "2023-05-25T07:41:11.598550Z",
     "iopub.status.busy": "2023-05-25T07:41:11.598188Z",
     "iopub.status.idle": "2023-05-25T07:41:11.609659Z",
     "shell.execute_reply": "2023-05-25T07:41:11.608718Z"
    },
    "papermill": {
     "duration": 0.019804,
     "end_time": "2023-05-25T07:41:11.612101",
     "exception": false,
     "start_time": "2023-05-25T07:41:11.592297",
     "status": "completed"
    },
    "tags": []
   },
   "outputs": [
    {
     "data": {
      "text/plain": [
       "Date     0.000000\n",
       "1 Mo     0.000499\n",
       "3 Mo     0.000499\n",
       "6 Mo     0.000499\n",
       "1 Yr     0.000499\n",
       "2 Yr     0.000499\n",
       "3 Yr     0.000499\n",
       "5 Yr     0.000499\n",
       "7 Yr     0.000499\n",
       "10 Yr    0.000499\n",
       "20 Yr    0.000499\n",
       "30 Yr    0.000499\n",
       "dtype: float64"
      ]
     },
     "execution_count": 6,
     "metadata": {},
     "output_type": "execute_result"
    }
   ],
   "source": [
    "df_all.isna().mean()"
   ]
  },
  {
   "cell_type": "code",
   "execution_count": 7,
   "id": "992945c8",
   "metadata": {
    "execution": {
     "iopub.execute_input": "2023-05-25T07:41:11.625081Z",
     "iopub.status.busy": "2023-05-25T07:41:11.624725Z",
     "iopub.status.idle": "2023-05-25T07:41:12.215015Z",
     "shell.execute_reply": "2023-05-25T07:41:12.213854Z"
    },
    "papermill": {
     "duration": 0.598885,
     "end_time": "2023-05-25T07:41:12.217628",
     "exception": false,
     "start_time": "2023-05-25T07:41:11.618743",
     "status": "completed"
    },
    "tags": []
   },
   "outputs": [
    {
     "data": {
      "text/plain": [
       "<Axes: xlabel='Date'>"
      ]
     },
     "execution_count": 7,
     "metadata": {},
     "output_type": "execute_result"
    },
    {
     "data": {
      "image/png": "[encoded data removed]",
      "text/plain": [
       "<Figure size 640x480 with 1 Axes>"
      ]
     },
     "metadata": {},
     "output_type": "display_data"
    }
   ],
   "source": [
    "df_all[[\"1 Mo\",\"3 Mo\",\"2 Yr\", \"10 Yr\"]].plot()"
   ]
  },
  {
   "cell_type": "code",
   "execution_count": 8,
   "id": "b8c04f44",
   "metadata": {
    "execution": {
     "iopub.execute_input": "2023-05-25T07:41:12.231432Z",
     "iopub.status.busy": "2023-05-25T07:41:12.231047Z",
     "iopub.status.idle": "2023-05-25T07:41:12.239127Z",
     "shell.execute_reply": "2023-05-25T07:41:12.238079Z"
    },
    "papermill": {
     "duration": 0.01741,
     "end_time": "2023-05-25T07:41:12.241180",
     "exception": false,
     "start_time": "2023-05-25T07:41:12.223770",
     "status": "completed"
    },
    "tags": []
   },
   "outputs": [
    {
     "name": "stdout",
     "output_type": "stream",
     "text": [
      "data shape after removing nan =(2002, 12)\n"
     ]
    }
   ],
   "source": [
    "df_clean = df_all.dropna()\n",
    "print (f\"data shape after removing nan ={df_clean.shape}\")"
   ]
  },
  {
   "cell_type": "code",
   "execution_count": 9,
   "id": "6a6b7862",
   "metadata": {
    "execution": {
     "iopub.execute_input": "2023-05-25T07:41:12.254727Z",
     "iopub.status.busy": "2023-05-25T07:41:12.254341Z",
     "iopub.status.idle": "2023-05-25T07:41:12.285709Z",
     "shell.execute_reply": "2023-05-25T07:41:12.284673Z"
    },
    "papermill": {
     "duration": 0.040945,
     "end_time": "2023-05-25T07:41:12.288236",
     "exception": false,
     "start_time": "2023-05-25T07:41:12.247291",
     "status": "completed"
    },
    "tags": []
   },
   "outputs": [],
   "source": [
    "df_clean.to_csv(f\"yield_curve_{START}_{END}.csv\")"
   ]
  }
 ],
 "metadata": {
  "kernelspec": {
   "display_name": "Python 3",
   "language": "python",
   "name": "python3"
  },
  "language_info": {
   "codemirror_mode": {
    "name": "ipython",
    "version": 3
   },
   "file_extension": ".py",
   "mimetype": "text/x-python",
   "name": "python",
   "nbconvert_exporter": "python",
   "pygments_lexer": "ipython3",
   "version": "3.10.10"
  },
  "papermill": {
   "default_parameters": {},
   "duration": 113.041098,
   "end_time": "2023-05-25T07:41:13.818165",
   "environment_variables": {},
   "exception": null,
   "input_path": "__notebook__.ipynb",
   "output_path": "__notebook__.ipynb",
   "parameters": {},
   "start_time": "2023-05-25T07:39:20.777067",
   "version": "2.4.0"
  }
 },
 "nbformat": 4,
 "nbformat_minor": 5
}
